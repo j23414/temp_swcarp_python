{
 "cells": [
  {
   "cell_type": "markdown",
   "metadata": {},
   "source": [
    "# Python Basics\n",
    "\n",
    "Setup Jupyter Lab envirnoment.\n",
    "\n",
    "**environment.yml**\n",
    "\n",
    "```{yml}\n",
    "name: jup_env\n",
    "channels:\n",
    "  - conda-forge\n",
    "  - bioconda\n",
    "  - defaults\n",
    "dependencies:\n",
    "  - python=3.8\n",
    "  - pandas\n",
    "  - jupyterlab\n",
    "```\n",
    "\n",
    "In bash:\n",
    "\n",
    "```{bash}\n",
    "conda env create -f environment.yml\n",
    "conda activate jup_env\n",
    "jupyter lab      # Starts browser notebook\n",
    "```"
   ]
  },
  {
   "cell_type": "code",
   "execution_count": 1,
   "metadata": {},
   "outputs": [
    {
     "name": "stdout",
     "output_type": "stream",
     "text": [
      "Hello World\n"
     ]
    }
   ],
   "source": [
    "print(\"Hello World\")"
   ]
  },
  {
   "cell_type": "markdown",
   "metadata": {},
   "source": [
    "## Data Types\n",
    "\n",
    "Data has to be stored in variables. Programming is basically moving and modifying variables.\n"
   ]
  },
  {
   "cell_type": "code",
   "execution_count": 2,
   "metadata": {},
   "outputs": [
    {
     "name": "stdout",
     "output_type": "stream",
     "text": [
      "5\n",
      "1.1\n",
      "0.3333333333333333\n",
      "hello\n"
     ]
    }
   ],
   "source": [
    "i = 5            # Integers 1, 2, 3, ...\n",
    "f = 1.1          # Floats 1.1, 1.1111, 3.14\n",
    "d = 1/3          # Doubles  1.3333333....\n",
    "s = \"hello\"      # Strings\n",
    "print(i) \n",
    "print(f)\n",
    "print(d)\n",
    "print(s)"
   ]
  },
  {
   "cell_type": "markdown",
   "metadata": {},
   "source": [
    "List all data objects"
   ]
  },
  {
   "cell_type": "code",
   "execution_count": 3,
   "metadata": {},
   "outputs": [
    {
     "name": "stdout",
     "output_type": "stream",
     "text": [
      "Variable   Type     Data/Info\n",
      "-----------------------------\n",
      "d          float    0.3333333333333333\n",
      "f          float    1.1\n",
      "i          int      5\n",
      "s          str      hello\n"
     ]
    }
   ],
   "source": [
    "whos"
   ]
  },
  {
   "cell_type": "markdown",
   "metadata": {},
   "source": [
    "## Reading and Writing Files\n",
    "\n",
    "You will probably need to read or write files, probably a csv/tsv/txt. Use the `pandas` library to crate a data.frame.\n"
   ]
  },
  {
   "cell_type": "code",
   "execution_count": 4,
   "metadata": {},
   "outputs": [
    {
     "data": {
      "text/html": [
       "<div>\n",
       "<style scoped>\n",
       "    .dataframe tbody tr th:only-of-type {\n",
       "        vertical-align: middle;\n",
       "    }\n",
       "\n",
       "    .dataframe tbody tr th {\n",
       "        vertical-align: top;\n",
       "    }\n",
       "\n",
       "    .dataframe thead th {\n",
       "        text-align: right;\n",
       "    }\n",
       "</style>\n",
       "<table border=\"1\" class=\"dataframe\">\n",
       "  <thead>\n",
       "    <tr style=\"text-align: right;\">\n",
       "      <th></th>\n",
       "      <th>color</th>\n",
       "      <th>count</th>\n",
       "    </tr>\n",
       "  </thead>\n",
       "  <tbody>\n",
       "    <tr>\n",
       "      <th>0</th>\n",
       "      <td>red</td>\n",
       "      <td>11</td>\n",
       "    </tr>\n",
       "    <tr>\n",
       "      <th>1</th>\n",
       "      <td>white</td>\n",
       "      <td>22</td>\n",
       "    </tr>\n",
       "    <tr>\n",
       "      <th>2</th>\n",
       "      <td>blue</td>\n",
       "      <td>33</td>\n",
       "    </tr>\n",
       "    <tr>\n",
       "      <th>3</th>\n",
       "      <td>green</td>\n",
       "      <td>44</td>\n",
       "    </tr>\n",
       "    <tr>\n",
       "      <th>4</th>\n",
       "      <td>purple</td>\n",
       "      <td>55</td>\n",
       "    </tr>\n",
       "  </tbody>\n",
       "</table>\n",
       "</div>"
      ],
      "text/plain": [
       "    color  count\n",
       "0     red     11\n",
       "1   white     22\n",
       "2    blue     33\n",
       "3   green     44\n",
       "4  purple     55"
      ]
     },
     "execution_count": 4,
     "metadata": {},
     "output_type": "execute_result"
    }
   ],
   "source": [
    "import pandas as pd\n",
    "data = pd.read_csv(\"data/small.txt\")  # read from a file\n",
    "data.to_csv('data/new_small.csv')     # write to a file\n",
    "data"
   ]
  },
  {
   "cell_type": "markdown",
   "metadata": {},
   "source": [
    "The `data` object is a data frame, somewhat similar to R's data.frame."
   ]
  },
  {
   "cell_type": "code",
   "execution_count": 5,
   "metadata": {},
   "outputs": [
    {
     "data": {
      "text/plain": [
       "pandas.core.frame.DataFrame"
      ]
     },
     "execution_count": 5,
     "metadata": {},
     "output_type": "execute_result"
    }
   ],
   "source": [
    "type(data) "
   ]
  },
  {
   "cell_type": "code",
   "execution_count": 6,
   "metadata": {},
   "outputs": [
    {
     "data": {
      "text/plain": [
       "Index(['color', 'count'], dtype='object')"
      ]
     },
     "execution_count": 6,
     "metadata": {},
     "output_type": "execute_result"
    }
   ],
   "source": [
    "data.columns    # equivalent to R's names(data)\n"
   ]
  },
  {
   "cell_type": "code",
   "execution_count": 7,
   "metadata": {},
   "outputs": [
    {
     "name": "stdout",
     "output_type": "stream",
     "text": [
      "Variable   Type         Data/Info\n",
      "---------------------------------\n",
      "d          float        0.3333333333333333\n",
      "data       DataFrame        color  count\\n0     r<...>     44\\n4  purple     55\n",
      "f          float        1.1\n",
      "i          int          5\n",
      "pd         module       <module 'pandas' from '/U<...>ages/pandas/__init__.py'>\n",
      "s          str          hello\n"
     ]
    }
   ],
   "source": [
    "whos"
   ]
  },
  {
   "cell_type": "markdown",
   "metadata": {},
   "source": [
    "# Define your own python functions\n",
    "\n",
    "Use the `def` keyword to create a function that takes input and gives output. Use functions to modify, combine, and compute on variables."
   ]
  },
  {
   "cell_type": "code",
   "execution_count": 8,
   "metadata": {},
   "outputs": [
    {
     "name": "stdout",
     "output_type": "stream",
     "text": [
      "Hello  Mark !\n"
     ]
    }
   ],
   "source": [
    "def hello_function(name):\n",
    "    print(\"Hello \", name, \"!\")\n",
    "    \n",
    "hello_function(\"Mark\")"
   ]
  },
  {
   "cell_type": "markdown",
   "metadata": {},
   "source": [
    "# Define your own python classes\n",
    "\n",
    "The key idea of object-oriented programming is grouping data and methods in a data structure called a class. The class is like a blueprint for a house (before the house is built or before the data is assigned any value). The blueprint allocates memory on the computer (you don't need to know much about this). As soon as you create an object from the class (assign values to memory), then it's called an object.\n",
    "\n",
    "Use the `class` keyword to create a class with internal data and functions (also referred to as methods):"
   ]
  },
  {
   "cell_type": "code",
   "execution_count": 9,
   "metadata": {},
   "outputs": [],
   "source": [
    "class MyPerson:\n",
    "    \n",
    "    def __init__(self, name, age):\n",
    "        self.name = name\n",
    "        self.age = age\n",
    "        \n",
    "    def getAge(self):\n",
    "        return(\"I am \" + str(self.age) + \" old.\")"
   ]
  },
  {
   "cell_type": "code",
   "execution_count": 10,
   "metadata": {},
   "outputs": [
    {
     "data": {
      "text/plain": [
       "'I am 40 old.'"
      ]
     },
     "execution_count": 10,
     "metadata": {},
     "output_type": "execute_result"
    }
   ],
   "source": [
    "mark = MyPerson(\"Mark\", 40)         # Instantiate a class to create an object\n",
    "mark.age                            # Access object data\n",
    "mark.getAge()                       # Call a function of the object"
   ]
  },
  {
   "cell_type": "markdown",
   "metadata": {},
   "source": [
    "Python is an object-oriented language, so the general analysis pipeline is (1) import packages (2) creating objects and (3) calling object.functions(). "
   ]
  },
  {
   "cell_type": "markdown",
   "metadata": {},
   "source": [
    "Use `dir()` to view all attributes (internal data) and methods of an object. "
   ]
  },
  {
   "cell_type": "code",
   "execution_count": 11,
   "metadata": {},
   "outputs": [
    {
     "data": {
      "text/plain": [
       "['__class__',\n",
       " '__delattr__',\n",
       " '__dict__',\n",
       " '__dir__',\n",
       " '__doc__',\n",
       " '__eq__',\n",
       " '__format__',\n",
       " '__ge__',\n",
       " '__getattribute__',\n",
       " '__gt__',\n",
       " '__hash__',\n",
       " '__init__',\n",
       " '__init_subclass__',\n",
       " '__le__',\n",
       " '__lt__',\n",
       " '__module__',\n",
       " '__ne__',\n",
       " '__new__',\n",
       " '__reduce__',\n",
       " '__reduce_ex__',\n",
       " '__repr__',\n",
       " '__setattr__',\n",
       " '__sizeof__',\n",
       " '__str__',\n",
       " '__subclasshook__',\n",
       " '__weakref__',\n",
       " 'age',\n",
       " 'getAge',\n",
       " 'name']"
      ]
     },
     "execution_count": 11,
     "metadata": {},
     "output_type": "execute_result"
    }
   ],
   "source": [
    "dir(mark)"
   ]
  },
  {
   "cell_type": "markdown",
   "metadata": {},
   "source": [
    "Any attributes or methods that start with an underscore or private (or internal), do not use these. Use the other attributes (\"age\", \"getAge\", \"name\")."
   ]
  },
  {
   "cell_type": "markdown",
   "metadata": {},
   "source": [
    "## Case Study: Gapminder\n",
    "\n",
    "[add description of dataset here with link to sources]"
   ]
  },
  {
   "cell_type": "code",
   "execution_count": 12,
   "metadata": {},
   "outputs": [
    {
     "data": {
      "text/html": [
       "<div>\n",
       "<style scoped>\n",
       "    .dataframe tbody tr th:only-of-type {\n",
       "        vertical-align: middle;\n",
       "    }\n",
       "\n",
       "    .dataframe tbody tr th {\n",
       "        vertical-align: top;\n",
       "    }\n",
       "\n",
       "    .dataframe thead th {\n",
       "        text-align: right;\n",
       "    }\n",
       "</style>\n",
       "<table border=\"1\" class=\"dataframe\">\n",
       "  <thead>\n",
       "    <tr style=\"text-align: right;\">\n",
       "      <th></th>\n",
       "      <th>gdpPercap_1952</th>\n",
       "      <th>gdpPercap_1957</th>\n",
       "      <th>gdpPercap_1962</th>\n",
       "      <th>gdpPercap_1967</th>\n",
       "    </tr>\n",
       "    <tr>\n",
       "      <th>continent</th>\n",
       "      <th></th>\n",
       "      <th></th>\n",
       "      <th></th>\n",
       "      <th></th>\n",
       "    </tr>\n",
       "  </thead>\n",
       "  <tbody>\n",
       "    <tr>\n",
       "      <th>Africa</th>\n",
       "      <td>3520.610273</td>\n",
       "      <td>3827.940465</td>\n",
       "      <td>4269.276742</td>\n",
       "      <td>5522.776375</td>\n",
       "    </tr>\n",
       "    <tr>\n",
       "      <th>Africa</th>\n",
       "      <td>1062.752200</td>\n",
       "      <td>959.601080</td>\n",
       "      <td>949.499064</td>\n",
       "      <td>1035.831411</td>\n",
       "    </tr>\n",
       "    <tr>\n",
       "      <th>Africa</th>\n",
       "      <td>851.241141</td>\n",
       "      <td>918.232535</td>\n",
       "      <td>983.653976</td>\n",
       "      <td>1214.709294</td>\n",
       "    </tr>\n",
       "    <tr>\n",
       "      <th>Africa</th>\n",
       "      <td>543.255241</td>\n",
       "      <td>617.183465</td>\n",
       "      <td>722.512021</td>\n",
       "      <td>794.826560</td>\n",
       "    </tr>\n",
       "    <tr>\n",
       "      <th>Africa</th>\n",
       "      <td>339.296459</td>\n",
       "      <td>379.564628</td>\n",
       "      <td>355.203227</td>\n",
       "      <td>412.977514</td>\n",
       "    </tr>\n",
       "    <tr>\n",
       "      <th>Africa</th>\n",
       "      <td>1172.667655</td>\n",
       "      <td>1313.048099</td>\n",
       "      <td>1399.607441</td>\n",
       "      <td>1508.453148</td>\n",
       "    </tr>\n",
       "    <tr>\n",
       "      <th>Africa</th>\n",
       "      <td>1071.310713</td>\n",
       "      <td>1190.844328</td>\n",
       "      <td>1193.068753</td>\n",
       "      <td>1136.056615</td>\n",
       "    </tr>\n",
       "    <tr>\n",
       "      <th>Africa</th>\n",
       "      <td>1178.665927</td>\n",
       "      <td>1308.495577</td>\n",
       "      <td>1389.817618</td>\n",
       "      <td>1196.810565</td>\n",
       "    </tr>\n",
       "    <tr>\n",
       "      <th>Africa</th>\n",
       "      <td>1102.990936</td>\n",
       "      <td>1211.148548</td>\n",
       "      <td>1406.648278</td>\n",
       "      <td>1876.029643</td>\n",
       "    </tr>\n",
       "  </tbody>\n",
       "</table>\n",
       "</div>"
      ],
      "text/plain": [
       "           gdpPercap_1952  gdpPercap_1957  gdpPercap_1962  gdpPercap_1967\n",
       "continent                                                                \n",
       "Africa        3520.610273     3827.940465     4269.276742     5522.776375\n",
       "Africa        1062.752200      959.601080      949.499064     1035.831411\n",
       "Africa         851.241141      918.232535      983.653976     1214.709294\n",
       "Africa         543.255241      617.183465      722.512021      794.826560\n",
       "Africa         339.296459      379.564628      355.203227      412.977514\n",
       "Africa        1172.667655     1313.048099     1399.607441     1508.453148\n",
       "Africa        1071.310713     1190.844328     1193.068753     1136.056615\n",
       "Africa        1178.665927     1308.495577     1389.817618     1196.810565\n",
       "Africa        1102.990936     1211.148548     1406.648278     1876.029643"
      ]
     },
     "execution_count": 12,
     "metadata": {},
     "output_type": "execute_result"
    }
   ],
   "source": [
    "data = pd.read_csv(\"data/gapminder_all.csv\", index_col=0 )\n",
    "\n",
    "# data[1:10, 1:5]       # <= will NOT work!\n",
    "data.iloc[1:10,1:5]     # iloc = integer location"
   ]
  },
  {
   "cell_type": "code",
   "execution_count": 13,
   "metadata": {},
   "outputs": [
    {
     "data": {
      "text/html": [
       "<div>\n",
       "<style scoped>\n",
       "    .dataframe tbody tr th:only-of-type {\n",
       "        vertical-align: middle;\n",
       "    }\n",
       "\n",
       "    .dataframe tbody tr th {\n",
       "        vertical-align: top;\n",
       "    }\n",
       "\n",
       "    .dataframe thead th {\n",
       "        text-align: right;\n",
       "    }\n",
       "</style>\n",
       "<table border=\"1\" class=\"dataframe\">\n",
       "  <thead>\n",
       "    <tr style=\"text-align: right;\">\n",
       "      <th></th>\n",
       "      <th>country</th>\n",
       "      <th>gdpPercap_1952</th>\n",
       "      <th>gdpPercap_1957</th>\n",
       "      <th>gdpPercap_1962</th>\n",
       "    </tr>\n",
       "    <tr>\n",
       "      <th>continent</th>\n",
       "      <th></th>\n",
       "      <th></th>\n",
       "      <th></th>\n",
       "      <th></th>\n",
       "    </tr>\n",
       "  </thead>\n",
       "  <tbody>\n",
       "    <tr>\n",
       "      <th>Africa</th>\n",
       "      <td>Algeria</td>\n",
       "      <td>2449.008185</td>\n",
       "      <td>3013.976023</td>\n",
       "      <td>2550.816880</td>\n",
       "    </tr>\n",
       "    <tr>\n",
       "      <th>Africa</th>\n",
       "      <td>Angola</td>\n",
       "      <td>3520.610273</td>\n",
       "      <td>3827.940465</td>\n",
       "      <td>4269.276742</td>\n",
       "    </tr>\n",
       "    <tr>\n",
       "      <th>Africa</th>\n",
       "      <td>Benin</td>\n",
       "      <td>1062.752200</td>\n",
       "      <td>959.601080</td>\n",
       "      <td>949.499064</td>\n",
       "    </tr>\n",
       "    <tr>\n",
       "      <th>Africa</th>\n",
       "      <td>Botswana</td>\n",
       "      <td>851.241141</td>\n",
       "      <td>918.232535</td>\n",
       "      <td>983.653976</td>\n",
       "    </tr>\n",
       "    <tr>\n",
       "      <th>Africa</th>\n",
       "      <td>Burkina Faso</td>\n",
       "      <td>543.255241</td>\n",
       "      <td>617.183465</td>\n",
       "      <td>722.512021</td>\n",
       "    </tr>\n",
       "  </tbody>\n",
       "</table>\n",
       "</div>"
      ],
      "text/plain": [
       "                country  gdpPercap_1952  gdpPercap_1957  gdpPercap_1962\n",
       "continent                                                              \n",
       "Africa          Algeria     2449.008185     3013.976023     2550.816880\n",
       "Africa           Angola     3520.610273     3827.940465     4269.276742\n",
       "Africa            Benin     1062.752200      959.601080      949.499064\n",
       "Africa         Botswana      851.241141      918.232535      983.653976\n",
       "Africa     Burkina Faso      543.255241      617.183465      722.512021"
      ]
     },
     "execution_count": 13,
     "metadata": {},
     "output_type": "execute_result"
    }
   ],
   "source": [
    "data.loc[:,\"country\":\"gdpPercap_1962\"].head()   # loc = label based location"
   ]
  },
  {
   "cell_type": "markdown",
   "metadata": {},
   "source": [
    "## Tidyverse flavored Python (I'll fix it later)\n",
    "\n",
    "| R tidyverse command | Python command |\n",
    "|:--|:--|\n",
    "|group_by | groupby |\n",
    "|summarize(avg = mean(col1)) | mean() agg()|\n",
    "|mutate(newcol=col1+col2) | assign(newcol = lambda data.frame ...|\n",
    "|pivot_longer | is there a melt equivalent? for merging datasets? |\n",
    "| ungroup | .. not needed?|\n",
    "| subset(col > 80) | rslt_df = dataframe.loc[dataframe['col'] > 80] |\n",
    "| select(c(col1, col2)) | dataframe.loc['col1':'col2']\n",
    "\n"
   ]
  },
  {
   "cell_type": "code",
   "execution_count": 14,
   "metadata": {},
   "outputs": [
    {
     "data": {
      "text/html": [
       "<div>\n",
       "<style scoped>\n",
       "    .dataframe tbody tr th:only-of-type {\n",
       "        vertical-align: middle;\n",
       "    }\n",
       "\n",
       "    .dataframe tbody tr th {\n",
       "        vertical-align: top;\n",
       "    }\n",
       "\n",
       "    .dataframe thead th {\n",
       "        text-align: right;\n",
       "    }\n",
       "</style>\n",
       "<table border=\"1\" class=\"dataframe\">\n",
       "  <thead>\n",
       "    <tr style=\"text-align: right;\">\n",
       "      <th></th>\n",
       "      <th>gdpPercap_1952</th>\n",
       "      <th>gdpPercap_1957</th>\n",
       "      <th>gdpPercap_1962</th>\n",
       "      <th>gdpPercap_1967</th>\n",
       "      <th>gdpPercap_1972</th>\n",
       "      <th>gdpPercap_1977</th>\n",
       "      <th>gdpPercap_1982</th>\n",
       "      <th>gdpPercap_1987</th>\n",
       "      <th>gdpPercap_1992</th>\n",
       "      <th>gdpPercap_1997</th>\n",
       "      <th>...</th>\n",
       "      <th>pop_1962</th>\n",
       "      <th>pop_1967</th>\n",
       "      <th>pop_1972</th>\n",
       "      <th>pop_1977</th>\n",
       "      <th>pop_1982</th>\n",
       "      <th>pop_1987</th>\n",
       "      <th>pop_1992</th>\n",
       "      <th>pop_1997</th>\n",
       "      <th>pop_2002</th>\n",
       "      <th>pop_2007</th>\n",
       "    </tr>\n",
       "    <tr>\n",
       "      <th>country</th>\n",
       "      <th></th>\n",
       "      <th></th>\n",
       "      <th></th>\n",
       "      <th></th>\n",
       "      <th></th>\n",
       "      <th></th>\n",
       "      <th></th>\n",
       "      <th></th>\n",
       "      <th></th>\n",
       "      <th></th>\n",
       "      <th></th>\n",
       "      <th></th>\n",
       "      <th></th>\n",
       "      <th></th>\n",
       "      <th></th>\n",
       "      <th></th>\n",
       "      <th></th>\n",
       "      <th></th>\n",
       "      <th></th>\n",
       "      <th></th>\n",
       "      <th></th>\n",
       "    </tr>\n",
       "  </thead>\n",
       "  <tbody>\n",
       "    <tr>\n",
       "      <th>Afghanistan</th>\n",
       "      <td>779.445314</td>\n",
       "      <td>820.853030</td>\n",
       "      <td>853.100710</td>\n",
       "      <td>836.197138</td>\n",
       "      <td>739.981106</td>\n",
       "      <td>786.113360</td>\n",
       "      <td>978.011439</td>\n",
       "      <td>852.395945</td>\n",
       "      <td>649.341395</td>\n",
       "      <td>635.341351</td>\n",
       "      <td>...</td>\n",
       "      <td>10267083.0</td>\n",
       "      <td>11537966.0</td>\n",
       "      <td>13079460.0</td>\n",
       "      <td>14880372.0</td>\n",
       "      <td>12881816.0</td>\n",
       "      <td>13867957.0</td>\n",
       "      <td>16317921.0</td>\n",
       "      <td>22227415.0</td>\n",
       "      <td>25268405</td>\n",
       "      <td>31889923</td>\n",
       "    </tr>\n",
       "    <tr>\n",
       "      <th>Albania</th>\n",
       "      <td>1601.056136</td>\n",
       "      <td>1942.284244</td>\n",
       "      <td>2312.888958</td>\n",
       "      <td>2760.196931</td>\n",
       "      <td>3313.422188</td>\n",
       "      <td>3533.003910</td>\n",
       "      <td>3630.880722</td>\n",
       "      <td>3738.932735</td>\n",
       "      <td>2497.437901</td>\n",
       "      <td>3193.054604</td>\n",
       "      <td>...</td>\n",
       "      <td>1728137.0</td>\n",
       "      <td>1984060.0</td>\n",
       "      <td>2263554.0</td>\n",
       "      <td>2509048.0</td>\n",
       "      <td>2780097.0</td>\n",
       "      <td>3075321.0</td>\n",
       "      <td>3326498.0</td>\n",
       "      <td>3428038.0</td>\n",
       "      <td>3508512</td>\n",
       "      <td>3600523</td>\n",
       "    </tr>\n",
       "    <tr>\n",
       "      <th>Algeria</th>\n",
       "      <td>2449.008185</td>\n",
       "      <td>3013.976023</td>\n",
       "      <td>2550.816880</td>\n",
       "      <td>3246.991771</td>\n",
       "      <td>4182.663766</td>\n",
       "      <td>4910.416756</td>\n",
       "      <td>5745.160213</td>\n",
       "      <td>5681.358539</td>\n",
       "      <td>5023.216647</td>\n",
       "      <td>4797.295051</td>\n",
       "      <td>...</td>\n",
       "      <td>11000948.0</td>\n",
       "      <td>12760499.0</td>\n",
       "      <td>14760787.0</td>\n",
       "      <td>17152804.0</td>\n",
       "      <td>20033753.0</td>\n",
       "      <td>23254956.0</td>\n",
       "      <td>26298373.0</td>\n",
       "      <td>29072015.0</td>\n",
       "      <td>31287142</td>\n",
       "      <td>33333216</td>\n",
       "    </tr>\n",
       "    <tr>\n",
       "      <th>Angola</th>\n",
       "      <td>3520.610273</td>\n",
       "      <td>3827.940465</td>\n",
       "      <td>4269.276742</td>\n",
       "      <td>5522.776375</td>\n",
       "      <td>5473.288005</td>\n",
       "      <td>3008.647355</td>\n",
       "      <td>2756.953672</td>\n",
       "      <td>2430.208311</td>\n",
       "      <td>2627.845685</td>\n",
       "      <td>2277.140884</td>\n",
       "      <td>...</td>\n",
       "      <td>4826015.0</td>\n",
       "      <td>5247469.0</td>\n",
       "      <td>5894858.0</td>\n",
       "      <td>6162675.0</td>\n",
       "      <td>7016384.0</td>\n",
       "      <td>7874230.0</td>\n",
       "      <td>8735988.0</td>\n",
       "      <td>9875024.0</td>\n",
       "      <td>10866106</td>\n",
       "      <td>12420476</td>\n",
       "    </tr>\n",
       "    <tr>\n",
       "      <th>Argentina</th>\n",
       "      <td>5911.315053</td>\n",
       "      <td>6856.856212</td>\n",
       "      <td>7133.166023</td>\n",
       "      <td>8052.953021</td>\n",
       "      <td>9443.038526</td>\n",
       "      <td>10079.026740</td>\n",
       "      <td>8997.897412</td>\n",
       "      <td>9139.671389</td>\n",
       "      <td>9308.418710</td>\n",
       "      <td>10967.281950</td>\n",
       "      <td>...</td>\n",
       "      <td>21283783.0</td>\n",
       "      <td>22934225.0</td>\n",
       "      <td>24779799.0</td>\n",
       "      <td>26983828.0</td>\n",
       "      <td>29341374.0</td>\n",
       "      <td>31620918.0</td>\n",
       "      <td>33958947.0</td>\n",
       "      <td>36203463.0</td>\n",
       "      <td>38331121</td>\n",
       "      <td>40301927</td>\n",
       "    </tr>\n",
       "  </tbody>\n",
       "</table>\n",
       "<p>5 rows × 36 columns</p>\n",
       "</div>"
      ],
      "text/plain": [
       "             gdpPercap_1952  gdpPercap_1957  gdpPercap_1962  gdpPercap_1967  \\\n",
       "country                                                                       \n",
       "Afghanistan      779.445314      820.853030      853.100710      836.197138   \n",
       "Albania         1601.056136     1942.284244     2312.888958     2760.196931   \n",
       "Algeria         2449.008185     3013.976023     2550.816880     3246.991771   \n",
       "Angola          3520.610273     3827.940465     4269.276742     5522.776375   \n",
       "Argentina       5911.315053     6856.856212     7133.166023     8052.953021   \n",
       "\n",
       "             gdpPercap_1972  gdpPercap_1977  gdpPercap_1982  gdpPercap_1987  \\\n",
       "country                                                                       \n",
       "Afghanistan      739.981106      786.113360      978.011439      852.395945   \n",
       "Albania         3313.422188     3533.003910     3630.880722     3738.932735   \n",
       "Algeria         4182.663766     4910.416756     5745.160213     5681.358539   \n",
       "Angola          5473.288005     3008.647355     2756.953672     2430.208311   \n",
       "Argentina       9443.038526    10079.026740     8997.897412     9139.671389   \n",
       "\n",
       "             gdpPercap_1992  gdpPercap_1997  ...    pop_1962    pop_1967  \\\n",
       "country                                      ...                           \n",
       "Afghanistan      649.341395      635.341351  ...  10267083.0  11537966.0   \n",
       "Albania         2497.437901     3193.054604  ...   1728137.0   1984060.0   \n",
       "Algeria         5023.216647     4797.295051  ...  11000948.0  12760499.0   \n",
       "Angola          2627.845685     2277.140884  ...   4826015.0   5247469.0   \n",
       "Argentina       9308.418710    10967.281950  ...  21283783.0  22934225.0   \n",
       "\n",
       "               pop_1972    pop_1977    pop_1982    pop_1987    pop_1992  \\\n",
       "country                                                                   \n",
       "Afghanistan  13079460.0  14880372.0  12881816.0  13867957.0  16317921.0   \n",
       "Albania       2263554.0   2509048.0   2780097.0   3075321.0   3326498.0   \n",
       "Algeria      14760787.0  17152804.0  20033753.0  23254956.0  26298373.0   \n",
       "Angola        5894858.0   6162675.0   7016384.0   7874230.0   8735988.0   \n",
       "Argentina    24779799.0  26983828.0  29341374.0  31620918.0  33958947.0   \n",
       "\n",
       "               pop_1997  pop_2002  pop_2007  \n",
       "country                                      \n",
       "Afghanistan  22227415.0  25268405  31889923  \n",
       "Albania       3428038.0   3508512   3600523  \n",
       "Algeria      29072015.0  31287142  33333216  \n",
       "Angola        9875024.0  10866106  12420476  \n",
       "Argentina    36203463.0  38331121  40301927  \n",
       "\n",
       "[5 rows x 36 columns]"
      ]
     },
     "execution_count": 14,
     "metadata": {},
     "output_type": "execute_result"
    }
   ],
   "source": [
    "data = pd.read_csv(\"data/gapminder_all.csv\", index_col=0)\n",
    "summarydata = data.groupby(\"country\").mean().head()\n",
    "summarydata"
   ]
  },
  {
   "cell_type": "code",
   "execution_count": null,
   "metadata": {},
   "outputs": [],
   "source": []
  }
 ],
 "metadata": {
  "kernelspec": {
   "display_name": "Python 3",
   "language": "python",
   "name": "python3"
  },
  "language_info": {
   "codemirror_mode": {
    "name": "ipython",
    "version": 3
   },
   "file_extension": ".py",
   "mimetype": "text/x-python",
   "name": "python",
   "nbconvert_exporter": "python",
   "pygments_lexer": "ipython3",
   "version": "3.8.8"
  }
 },
 "nbformat": 4,
 "nbformat_minor": 4
}
