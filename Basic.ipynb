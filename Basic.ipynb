{
 "cells": [
  {
   "cell_type": "markdown",
   "metadata": {},
   "source": [
    "# Main Instructions\n",
    "\n",
    "Setup Jupyter Lab. I deviated from the instructions by using miniconda environments\n",
    "\n",
    "swcp.yml\n",
    "\n",
    "```{yml}\n",
    "name: swcp\n",
    "channels:\n",
    "  - conda-forge\n",
    "  - bioconda\n",
    "  - defaults\n",
    "dependencies:\n",
    "  - python=3.8\n",
    "  - jupyterlab\n",
    "```\n",
    "\n",
    "And start from commandline\n",
    "\n",
    "```{bash}\n",
    "conda env create -f swcp.yml\n",
    "conda activate swcp\n",
    "jupyter lab      # Starts browser notebook\n",
    "```"
   ]
  },
  {
   "cell_type": "code",
   "execution_count": 1,
   "metadata": {},
   "outputs": [
    {
     "name": "stdout",
     "output_type": "stream",
     "text": [
      "Hello World\n"
     ]
    }
   ],
   "source": [
    "print(\"Hello World\")"
   ]
  },
  {
   "cell_type": "code",
   "execution_count": 3,
   "metadata": {},
   "outputs": [
    {
     "name": "stdout",
     "output_type": "stream",
     "text": [
      "5\n",
      "1.1\n",
      "0.3333333333333333\n",
      "hello\n"
     ]
    }
   ],
   "source": [
    "i = 5\n",
    "f = 1.1\n",
    "d = 1/3\n",
    "s = \"hello\"\n",
    "print(i)\n",
    "print(f)\n",
    "print(d)\n",
    "print(s)"
   ]
  },
  {
   "cell_type": "code",
   "execution_count": 4,
   "metadata": {},
   "outputs": [
    {
     "name": "stdout",
     "output_type": "stream",
     "text": [
      "d\t f\t i\t s\t \n"
     ]
    }
   ],
   "source": [
    "%who"
   ]
  },
  {
   "cell_type": "code",
   "execution_count": 9,
   "metadata": {},
   "outputs": [
    {
     "name": "stdout",
     "output_type": "stream",
     "text": [
      "Variable   Type     Data/Info\n",
      "-----------------------------\n",
      "d          float    0.3333333333333333\n",
      "f          float    1.1\n",
      "i          int      5\n",
      "s          str      hello\n"
     ]
    }
   ],
   "source": [
    "whos"
   ]
  },
  {
   "cell_type": "code",
   "execution_count": null,
   "metadata": {},
   "outputs": [],
   "source": []
  },
  {
   "cell_type": "code",
   "execution_count": null,
   "metadata": {},
   "outputs": [],
   "source": []
  }
 ],
 "metadata": {
  "kernelspec": {
   "display_name": "Python 3",
   "language": "python",
   "name": "python3"
  },
  "language_info": {
   "codemirror_mode": {
    "name": "ipython",
    "version": 3
   },
   "file_extension": ".py",
   "mimetype": "text/x-python",
   "name": "python",
   "nbconvert_exporter": "python",
   "pygments_lexer": "ipython3",
   "version": "3.8.8"
  }
 },
 "nbformat": 4,
 "nbformat_minor": 4
}
