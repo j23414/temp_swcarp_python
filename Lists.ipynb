{
 "cells": [
  {
   "cell_type": "markdown",
   "id": "boolean-navigation",
   "metadata": {},
   "source": [
    "# Lists\n",
    "\n",
    "Expand here, or maybe combine this with for & if (control statements)."
   ]
  },
  {
   "cell_type": "code",
   "execution_count": 4,
   "id": "therapeutic-settle",
   "metadata": {},
   "outputs": [
    {
     "name": "stdout",
     "output_type": "stream",
     "text": [
      "i =  1\n",
      "i =  2\n",
      "i =  3\n",
      "i =  4\n",
      "i =  5\n",
      "results =  [11, 12, 13, 14, 15]\n"
     ]
    }
   ],
   "source": [
    "# Pythonic coding pattern of appending results to an empty list\n",
    "\n",
    "results=[]     \n",
    "\n",
    "# for i in [1,2,3,4,5]:\n",
    "for i in range(1,6):\n",
    "    print(\"i = \", i)\n",
    "    results.append( 10 + i )     # <= computation here\n",
    "    \n",
    "print(\"results = \", results)"
   ]
  },
  {
   "cell_type": "code",
   "execution_count": 6,
   "id": "cross-canada",
   "metadata": {},
   "outputs": [
    {
     "name": "stdout",
     "output_type": "stream",
     "text": [
      "temp =  45\n"
     ]
    }
   ],
   "source": [
    "# accumulator pattern\n",
    "\n",
    "temp = 0\n",
    "\n",
    "for i in range(10):\n",
    "    temp = temp + i\n",
    "    \n",
    "print(\"temp = \", temp)"
   ]
  },
  {
   "cell_type": "code",
   "execution_count": null,
   "id": "fuzzy-catalyst",
   "metadata": {},
   "outputs": [],
   "source": []
  }
 ],
 "metadata": {
  "kernelspec": {
   "display_name": "Python 3",
   "language": "python",
   "name": "python3"
  },
  "language_info": {
   "codemirror_mode": {
    "name": "ipython",
    "version": 3
   },
   "file_extension": ".py",
   "mimetype": "text/x-python",
   "name": "python",
   "nbconvert_exporter": "python",
   "pygments_lexer": "ipython3",
   "version": "3.7.10"
  }
 },
 "nbformat": 4,
 "nbformat_minor": 5
}
